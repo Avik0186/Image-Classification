{
 "cells": [
  {
   "cell_type": "markdown",
   "metadata": {
    "collapsed": true
   },
   "source": [
    "# Image Classification\n",
    "In this project, you'll classify images from the [CIFAR-10 dataset](https://www.cs.toronto.edu/~kriz/cifar.html).  The dataset consists of airplanes, dogs, cats, and other objects. You'll preprocess the images, then train a convolutional neural network on all the samples. The images need to be normalized and the labels need to be one-hot encoded.  You'll get to apply what you learned and build a convolutional, max pooling, dropout, and fully connected layers.  At the end, you'll get to see your neural network's predictions on the sample images.\n",
    "## Get the Data\n",
    "Run the following cell to download the [CIFAR-10 dataset for python](https://www.cs.toronto.edu/~kriz/cifar-10-python.tar.gz)."
   ]
  },
  {
   "cell_type": "code",
   "execution_count": 1,
   "metadata": {
    "collapsed": false
   },
   "outputs": [
    {
     "name": "stdout",
     "output_type": "stream",
     "text": [
      "All files found!\n"
     ]
    }
   ],
   "source": [
    "\"\"\"\n",
    "DON'T MODIFY ANYTHING IN THIS CELL THAT IS BELOW THIS LINE\n",
    "\"\"\"\n",
    "from urllib.request import urlretrieve\n",
    "from os.path import isfile, isdir\n",
    "from tqdm import tqdm\n",
    "import problem_unittests as tests\n",
    "import tarfile\n",
    "\n",
    "cifar10_dataset_folder_path = 'cifar-10-batches-py'\n",
    "\n",
    "class DLProgress(tqdm):\n",
    "    last_block = 0\n",
    "\n",
    "    def hook(self, block_num=1, block_size=1, total_size=None):\n",
    "        self.total = total_size\n",
    "        self.update((block_num - self.last_block) * block_size)\n",
    "        self.last_block = block_num\n",
    "\n",
    "if not isfile('cifar-10-python.tar.gz'):\n",
    "    with DLProgress(unit='B', unit_scale=True, miniters=1, desc='CIFAR-10 Dataset') as pbar:\n",
    "        urlretrieve(\n",
    "            'https://www.cs.toronto.edu/~kriz/cifar-10-python.tar.gz',\n",
    "            'cifar-10-python.tar.gz',\n",
    "            pbar.hook)\n",
    "\n",
    "if not isdir(cifar10_dataset_folder_path):\n",
    "    with tarfile.open('cifar-10-python.tar.gz') as tar:\n",
    "        tar.extractall()\n",
    "        tar.close()\n",
    "\n",
    "\n",
    "tests.test_folder_path(cifar10_dataset_folder_path)"
   ]
  },
  {
   "cell_type": "markdown",
   "metadata": {},
   "source": [
    "## Explore the Data\n",
    "The dataset is broken into batches to prevent your machine from running out of memory.  The CIFAR-10 dataset consists of 5 batches, named `data_batch_1`, `data_batch_2`, etc.. Each batch contains the labels and images that are one of the following:\n",
    "* airplane\n",
    "* automobile\n",
    "* bird\n",
    "* cat\n",
    "* deer\n",
    "* dog\n",
    "* frog\n",
    "* horse\n",
    "* ship\n",
    "* truck\n",
    "\n",
    "Understanding a dataset is part of making predictions on the data.  Play around with the code cell below by changing the `batch_id` and `sample_id`. The `batch_id` is the id for a batch (1-5). The `sample_id` is the id for a image and label pair in the batch.\n",
    "\n",
    "Ask yourself \"What are all possible labels?\", \"What is the range of values for the image data?\", \"Are the labels in order or random?\".  Answers to questions like these will help you preprocess the data and end up with better predictions."
   ]
  },
  {
   "cell_type": "code",
   "execution_count": 2,
   "metadata": {
    "collapsed": false
   },
   "outputs": [
    {
     "name": "stdout",
     "output_type": "stream",
     "text": [
      "\n",
      "Stats of batch 4:\n",
      "Samples: 10000\n",
      "Label Counts: {0: 1003, 1: 963, 2: 1041, 3: 976, 4: 1004, 5: 1021, 6: 1004, 7: 981, 8: 1024, 9: 983}\n",
      "First 20 Labels: [0, 6, 0, 2, 7, 2, 1, 2, 4, 1, 5, 6, 6, 3, 1, 3, 5, 5, 8, 1]\n",
      "\n",
      "Example of Image 7:\n",
      "Image - Min Value: 17 Max Value: 221\n",
      "Image - Shape: (32, 32, 3)\n",
      "Label - Label Id: 2 Name: bird\n"
     ]
    },
    {
     "data": {
      "image/png": "[encoded data removed]",
      "text/plain": [
       "<matplotlib.figure.Figure at 0x1ea4791c978>"
      ]
     },
     "metadata": {
      "image/png": {
       "height": 250,
       "width": 253
      }
     },
     "output_type": "display_data"
    }
   ],
   "source": [
    "%matplotlib inline\n",
    "%config InlineBackend.figure_format = 'retina'\n",
    "\n",
    "import helper\n",
    "import numpy as np\n",
    "\n",
    "# Explore the dataset\n",
    "batch_id = 4\n",
    "sample_id = 7\n",
    "helper.display_stats(cifar10_dataset_folder_path, batch_id, sample_id)"
   ]
  },
  {
   "cell_type": "markdown",
   "metadata": {},
   "source": [
    "## Implement Preprocess Functions\n",
    "### Normalize\n",
    "In the cell below, implement the `normalize` function to take in image data, `x`, and return it as a normalized Numpy array. The values should be in the range of 0 to 1, inclusive.  The return object should be the same shape as `x`."
   ]
  },
  {
   "cell_type": "code",
   "execution_count": 5,
   "metadata": {
    "collapsed": false
   },
   "outputs": [
    {
     "name": "stdout",
     "output_type": "stream",
     "text": [
      "Tests Passed\n"
     ]
    }
   ],
   "source": [
    "def normalize(x):\n",
    "    \"\"\"\n",
    "    Normalize a list of sample image data in the range of 0 to 1\n",
    "    : x: List of image data.  The image shape is (32, 32, 3)\n",
    "    : return: Numpy array of normalize data\n",
    "    \"\"\"\n",
    "    # TODO: Implement Function\n",
    "    normalized_min = 0\n",
    "    normalized_max = 1\n",
    "    grayscale_max = 255\n",
    "    grayscale_min = 0\n",
    "    return np.array(((x-grayscale_min)*(normalized_max-normalized_min))/(grayscale_max-grayscale_min))\n",
    "\n",
    "\n",
    "\"\"\"\n",
    "DON'T MODIFY ANYTHING IN THIS CELL THAT IS BELOW THIS LINE\n",
    "\"\"\"\n",
    "tests.test_normalize(normalize)"
   ]
  },
  {
   "cell_type": "markdown",
   "metadata": {},
   "source": [
    "### One-hot encode\n",
    "Just like the previous code cell, you'll be implementing a function for preprocessing.  This time, you'll implement the `one_hot_encode` function. The input, `x`, are a list of labels.  Implement the function to return the list of labels as One-Hot encoded Numpy array.  The possible values for labels are 0 to 9. The one-hot encoding function should return the same encoding for each value between each call to `one_hot_encode`.  Make sure to save the map of encodings outside the function.\n",
    "\n",
    "Hint: Don't reinvent the wheel."
   ]
  },
  {
   "cell_type": "code",
   "execution_count": 6,
   "metadata": {
    "collapsed": false
   },
   "outputs": [
    {
     "name": "stdout",
     "output_type": "stream",
     "text": [
      "Tests Passed\n"
     ]
    }
   ],
   "source": [
    "from sklearn import preprocessing\n",
    "def one_hot_encode(x):\n",
    "    \"\"\"\n",
    "    One hot encode a list of sample labels. Return a one-hot encoded vector for each label.\n",
    "    : x: List of sample Labels\n",
    "    : return: Numpy array of one-hot encoded labels\n",
    "    \"\"\"\n",
    "    # TODO: Implement Function\n",
    "    encoder = preprocessing.LabelBinarizer()\n",
    "    encoder.fit(x)\n",
    "    encoder.classes_ = [0, 1, 2, 3, 4, 5, 6, 7, 8, 9]\n",
    "    x_encoded = encoder.transform(x)    \n",
    "    return x_encoded\n",
    "\n",
    "\n",
    "\"\"\"\n",
    "DON'T MODIFY ANYTHING IN THIS CELL THAT IS BELOW THIS LINE\n",
    "\"\"\"\n",
    "tests.test_one_hot_encode(one_hot_encode)"
   ]
  },
  {
   "cell_type": "markdown",
   "metadata": {},
   "source": [
    "### Randomize Data\n",
    "As you saw from exploring the data above, the order of the samples are randomized.  It doesn't hurt to randomize it again, but you don't need to for this dataset."
   ]
  },
  {
   "cell_type": "markdown",
   "metadata": {},
   "source": [
    "## Preprocess all the data and save it\n",
    "Running the code cell below will preprocess all the CIFAR-10 data and save it to file. The code below also uses 10% of the training data for validation."
   ]
  },
  {
   "cell_type": "code",
   "execution_count": 7,
   "metadata": {
    "collapsed": false
   },
   "outputs": [],
   "source": [
    "\"\"\"\n",
    "DON'T MODIFY ANYTHING IN THIS CELL\n",
    "\"\"\"\n",
    "# Preprocess Training, Validation, and Testing Data\n",
    "helper.preprocess_and_save_data(cifar10_dataset_folder_path, normalize, one_hot_encode)"
   ]
  },
  {
   "cell_type": "markdown",
   "metadata": {},
   "source": [
    "# Check Point\n",
    "This is your first checkpoint.  If you ever decide to come back to this notebook or have to restart the notebook, you can start from here.  The preprocessed data has been saved to disk."
   ]
  },
  {
   "cell_type": "code",
   "execution_count": 8,
   "metadata": {
    "collapsed": true
   },
   "outputs": [],
   "source": [
    "\"\"\"\n",
    "DON'T MODIFY ANYTHING IN THIS CELL\n",
    "\"\"\"\n",
    "import pickle\n",
    "import problem_unittests as tests\n",
    "import helper\n",
    "\n",
    "# Load the Preprocessed Validation data\n",
    "valid_features, valid_labels = pickle.load(open('preprocess_validation.p', mode='rb'))"
   ]
  },
  {
   "cell_type": "markdown",
   "metadata": {},
   "source": [
    "## Build the network\n",
    "For the neural network, you'll build each layer into a function.  Most of the code you've seen has been outside of functions. To test your code more thoroughly, we require that you put each layer in a function.  This allows us to give you better feedback and test for simple mistakes using our unittests before you submit your project.\n",
    "\n",
    ">**Note:** If you're finding it hard to dedicate enough time for this course each week, we've provided a small shortcut to this part of the project. In the next couple of problems, you'll have the option to use classes from the [TensorFlow Layers](https://www.tensorflow.org/api_docs/python/tf/layers) or [TensorFlow Layers (contrib)](https://www.tensorflow.org/api_guides/python/contrib.layers) packages to build each layer, except the layers you build in the \"Convolutional and Max Pooling Layer\" section.  TF Layers is similar to Keras's and TFLearn's abstraction to layers, so it's easy to pickup.\n",
    "\n",
    ">However, if you would like to get the most out of this course, try to solve all the problems _without_ using anything from the TF Layers packages. You **can** still use classes from other packages that happen to have the same name as ones you find in TF Layers! For example, instead of using the TF Layers version of the `conv2d` class, [tf.layers.conv2d](https://www.tensorflow.org/api_docs/python/tf/layers/conv2d), you would want to use the TF Neural Network version of `conv2d`, [tf.nn.conv2d](https://www.tensorflow.org/api_docs/python/tf/nn/conv2d). \n",
    "\n",
    "Let's begin!\n",
    "\n",
    "### Input\n",
    "The neural network needs to read the image data, one-hot encoded labels, and dropout keep probability. Implement the following functions\n",
    "* Implement `neural_net_image_input`\n",
    " * Return a [TF Placeholder](https://www.tensorflow.org/api_docs/python/tf/placeholder)\n",
    " * Set the shape using `image_shape` with batch size set to `None`.\n",
    " * Name the TensorFlow placeholder \"x\" using the TensorFlow `name` parameter in the [TF Placeholder](https://www.tensorflow.org/api_docs/python/tf/placeholder).\n",
    "* Implement `neural_net_label_input`\n",
    " * Return a [TF Placeholder](https://www.tensorflow.org/api_docs/python/tf/placeholder)\n",
    " * Set the shape using `n_classes` with batch size set to `None`.\n",
    " * Name the TensorFlow placeholder \"y\" using the TensorFlow `name` parameter in the [TF Placeholder](https://www.tensorflow.org/api_docs/python/tf/placeholder).\n",
    "* Implement `neural_net_keep_prob_input`\n",
    " * Return a [TF Placeholder](https://www.tensorflow.org/api_docs/python/tf/placeholder) for dropout keep probability.\n",
    " * Name the TensorFlow placeholder \"keep_prob\" using the TensorFlow `name` parameter in the [TF Placeholder](https://www.tensorflow.org/api_docs/python/tf/placeholder).\n",
    "\n",
    "These names will be used at the end of the project to load your saved model.\n",
    "\n",
    "Note: `None` for shapes in TensorFlow allow for a dynamic size."
   ]
  },
  {
   "cell_type": "code",
   "execution_count": 9,
   "metadata": {
    "collapsed": false
   },
   "outputs": [
    {
     "name": "stdout",
     "output_type": "stream",
     "text": [
      "Image Input Tests Passed.\n",
      "Label Input Tests Passed.\n",
      "Keep Prob Tests Passed.\n"
     ]
    }
   ],
   "source": [
    "import tensorflow as tf\n",
    "\n",
    "def neural_net_image_input(image_shape):\n",
    "    \"\"\"\n",
    "    Return a Tensor for a bach of image input\n",
    "    : image_shape: Shape of the images\n",
    "    : return: Tensor for image input.\n",
    "    \"\"\"\n",
    "    # TODO: Implement Function\n",
    "    \n",
    "    batch_size = None \n",
    "    return tf.placeholder(tf.float32, shape = [batch_size, *image_shape], name=\"x\")\n",
    "\n",
    "\n",
    "def neural_net_label_input(n_classes):\n",
    "    \"\"\"\n",
    "    Return a Tensor for a batch of label input\n",
    "    : n_classes: Number of classes\n",
    "    : return: Tensor for label input.\n",
    "    \"\"\"\n",
    "    # TODO: Implement Function\n",
    "    batch_size = None\n",
    "    return tf.placeholder(tf.float32, shape = (batch_size, n_classes),name=\"y\") \n",
    "\n",
    "\n",
    "def neural_net_keep_prob_input():\n",
    "    \"\"\"\n",
    "    Return a Tensor for keep probability\n",
    "    : return: Tensor for keep probability.\n",
    "    \"\"\"\n",
    "    # TODO: Implement Function\n",
    "    \n",
    "    return tf.placeholder(tf.float32,name=\"keep_prob\")\n",
    "\n",
    "\n",
    "\"\"\"\n",
    "DON'T MODIFY ANYTHING IN THIS CELL THAT IS BELOW THIS LINE\n",
    "\"\"\"\n",
    "tf.reset_default_graph()\n",
    "tests.test_nn_image_inputs(neural_net_image_input)\n",
    "tests.test_nn_label_inputs(neural_net_label_input)\n",
    "tests.test_nn_keep_prob_inputs(neural_net_keep_prob_input)"
   ]
  },
  {
   "cell_type": "markdown",
   "metadata": {},
   "source": [
    "### Convolution and Max Pooling Layer\n",
    "Convolution layers have a lot of success with images. For this code cell, you should implement the function `conv2d_maxpool` to apply convolution then max pooling:\n",
    "* Create the weight and bias using `conv_ksize`, `conv_num_outputs` and the shape of `x_tensor`.\n",
    "* Apply a convolution to `x_tensor` using weight and `conv_strides`.\n",
    " * We recommend you use same padding, but you're welcome to use any padding.\n",
    "* Add bias\n",
    "* Add a nonlinear activation to the convolution.\n",
    "* Apply Max Pooling using `pool_ksize` and `pool_strides`.\n",
    " * We recommend you use same padding, but you're welcome to use any padding.\n",
    "\n",
    "**Note:** You **can't** use [TensorFlow Layers](https://www.tensorflow.org/api_docs/python/tf/layers) or [TensorFlow Layers (contrib)](https://www.tensorflow.org/api_guides/python/contrib.layers) for **this** layer, but you can still use TensorFlow's [Neural Network](https://www.tensorflow.org/api_docs/python/tf/nn) package. You may still use the shortcut option for all the **other** layers."
   ]
  },
  {
   "cell_type": "code",
   "execution_count": 10,
   "metadata": {
    "collapsed": false
   },
   "outputs": [
    {
     "name": "stdout",
     "output_type": "stream",
     "text": [
      "Tests Passed\n"
     ]
    }
   ],
   "source": [
    "def conv2d_maxpool(x_tensor, conv_num_outputs, conv_ksize, conv_strides, pool_ksize, pool_strides):\n",
    "    \"\"\"\n",
    "    Apply convolution then max pooling to x_tensor\n",
    "    :param x_tensor: TensorFlow Tensor\n",
    "    :param conv_num_outputs: Number of outputs for the convolutional layer\n",
    "    :param conv_ksize: kernal size 2-D Tuple for the convolutional layer\n",
    "    :param conv_strides: Stride 2-D Tuple for convolution\n",
    "    :param pool_ksize: kernal size 2-D Tuple for pool\n",
    "    :param pool_strides: Stride 2-D Tuple for pool\n",
    "    : return: A tensor that represents convolution and max pooling of x_tensor\n",
    "    \"\"\"\n",
    "    # TODO: Implement Function\n",
    "    strides = [1, conv_strides[0], conv_strides[1], 1]\n",
    "    padding = \"SAME\"\n",
    "    weight = tf.Variable(tf.truncated_normal([conv_ksize[0], conv_ksize[1], x_tensor.get_shape().as_list()[-1], conv_num_outputs]))\n",
    "    bias = tf.Variable(tf.zeros(conv_num_outputs))\n",
    "    \n",
    "    conv_layer = tf.nn.conv2d(x_tensor, weight, strides, padding)\n",
    "    conv_layer = tf.nn.bias_add(conv_layer, bias)\n",
    "    conv_layer = tf.nn.relu(conv_layer)\n",
    "    \n",
    "    strides = [1,pool_strides[0],pool_strides[1],1]\n",
    "    ksize = [1,pool_ksize[0],pool_ksize[1],1]\n",
    "    maxPoolConv2D = tf.nn.max_pool(conv_layer, ksize, strides, padding=\"SAME\")\n",
    "    \n",
    "    return maxPoolConv2D \n",
    "\n",
    "\n",
    "\"\"\"\n",
    "DON'T MODIFY ANYTHING IN THIS CELL THAT IS BELOW THIS LINE\n",
    "\"\"\"\n",
    "tests.test_con_pool(conv2d_maxpool)"
   ]
  },
  {
   "cell_type": "markdown",
   "metadata": {},
   "source": [
    "### Flatten Layer\n",
    "Implement the `flatten` function to change the dimension of `x_tensor` from a 4-D tensor to a 2-D tensor.  The output should be the shape (*Batch Size*, *Flattened Image Size*). Shortcut option: you can use classes from the [TensorFlow Layers](https://www.tensorflow.org/api_docs/python/tf/layers) or [TensorFlow Layers (contrib)](https://www.tensorflow.org/api_guides/python/contrib.layers) packages for this layer. For more of a challenge, only use other TensorFlow packages."
   ]
  },
  {
   "cell_type": "code",
   "execution_count": 11,
   "metadata": {
    "collapsed": false
   },
   "outputs": [
    {
     "name": "stdout",
     "output_type": "stream",
     "text": [
      "Tests Passed\n"
     ]
    }
   ],
   "source": [
    "def flatten(x_tensor):\n",
    "    \"\"\"\n",
    "    Flatten x_tensor to (Batch Size, Flattened Image Size)\n",
    "    : x_tensor: A tensor of size (Batch Size, ...), where ... are the image dimensions.\n",
    "    : return: A tensor of size (Batch Size, Flattened Image Size).\n",
    "    \"\"\"\n",
    "    # TODO: Implement Function\n",
    "    batch_size = x_tensor.get_shape().as_list()[0] \n",
    "    width = x_tensor.get_shape().as_list()[1]\n",
    "    height = x_tensor.get_shape().as_list()[2]\n",
    "    depth = x_tensor.get_shape().as_list()[3]\n",
    "    flattened_size = width*height*depth\n",
    "    return tf.reshape(x_tensor, [-1, flattened_size])\n",
    "\n",
    "\n",
    "\"\"\"\n",
    "DON'T MODIFY ANYTHING IN THIS CELL THAT IS BELOW THIS LINE\n",
    "\"\"\"\n",
    "tests.test_flatten(flatten)"
   ]
  },
  {
   "cell_type": "markdown",
   "metadata": {},
   "source": [
    "### Fully-Connected Layer\n",
    "Implement the `fully_conn` function to apply a fully connected layer to `x_tensor` with the shape (*Batch Size*, *num_outputs*). Shortcut option: you can use classes from the [TensorFlow Layers](https://www.tensorflow.org/api_docs/python/tf/layers) or [TensorFlow Layers (contrib)](https://www.tensorflow.org/api_guides/python/contrib.layers) packages for this layer. For more of a challenge, only use other TensorFlow packages."
   ]
  },
  {
   "cell_type": "code",
   "execution_count": 12,
   "metadata": {
    "collapsed": false
   },
   "outputs": [
    {
     "name": "stdout",
     "output_type": "stream",
     "text": [
      "Tests Passed\n"
     ]
    }
   ],
   "source": [
    "def fully_conn(x_tensor, num_outputs):\n",
    "    \"\"\"\n",
    "    Apply a fully connected layer to x_tensor using weight and bias\n",
    "    : x_tensor: A 2-D tensor where the first dimension is batch size.\n",
    "    : num_outputs: The number of output that the new tensor should be.\n",
    "    : return: A 2-D tensor where the second dimension is num_outputs.\n",
    "    \"\"\"\n",
    "    # TODO: Implement Function\n",
    "    fully_conn_layer = tf.contrib.layers.fully_connected(x_tensor,num_outputs)\n",
    "    \n",
    "    \"\"\"\n",
    "    batch_size = x_tensor.get_shape().as_list()[0]\n",
    "    flatten_size = x_tensor.get_shape().as_list()[1]\n",
    "    weights = tf.Variable(tf.truncated_normal([flatten_size, num_outputs]))\n",
    "    bias = tf.Variable(tf.zeros(num_outputs))\n",
    "    fully_conn_layer = tf.add(tf.matmul(x_tensor,weights),bias)\n",
    "    fully_conn_layer = tf.nn.relu(fully_conn_layer)\n",
    "    \"\"\"\n",
    "    return fully_conn_layer\n",
    "\n",
    "\n",
    "\"\"\"\n",
    "DON'T MODIFY ANYTHING IN THIS CELL THAT IS BELOW THIS LINE\n",
    "\"\"\"\n",
    "tests.test_fully_conn(fully_conn)"
   ]
  },
  {
   "cell_type": "markdown",
   "metadata": {},
   "source": [
    "### Output Layer\n",
    "Implement the `output` function to apply a fully connected layer to `x_tensor` with the shape (*Batch Size*, *num_outputs*). Shortcut option: you can use classes from the [TensorFlow Layers](https://www.tensorflow.org/api_docs/python/tf/layers) or [TensorFlow Layers (contrib)](https://www.tensorflow.org/api_guides/python/contrib.layers) packages for this layer. For more of a challenge, only use other TensorFlow packages.\n",
    "\n",
    "**Note:** Activation, softmax, or cross entropy should **not** be applied to this."
   ]
  },
  {
   "cell_type": "code",
   "execution_count": 13,
   "metadata": {
    "collapsed": false
   },
   "outputs": [
    {
     "name": "stdout",
     "output_type": "stream",
     "text": [
      "Tests Passed\n"
     ]
    }
   ],
   "source": [
    "def output(x_tensor, num_outputs):\n",
    "    \"\"\"\n",
    "    Apply a output layer to x_tensor using weight and bias\n",
    "    : x_tensor: A 2-D tensor where the first dimension is batch size.\n",
    "    : num_outputs: The number of output that the new tensor should be.\n",
    "    : return: A 2-D tensor where the second dimension is num_outputs.\n",
    "    \"\"\"\n",
    "    # TODO: Implement Function\n",
    "    out_layer = tf.contrib.layers.fully_connected(x_tensor,num_outputs,activation_fn=None)\n",
    "    \"\"\"\n",
    "    batch_size = x_tensor.get_shape().as_list()[0]\n",
    "    flatten_size = x_tensor.get_shape().as_list()[1]\n",
    "    weights = tf.Variable(tf.truncated_normal([flatten_size, num_outputs]))\n",
    "    bias = tf.Variable(tf.zeros(num_outputs))\n",
    "    out_layer = tf.add(tf.matmul(x_tensor,weights),bias)\n",
    "    \"\"\"\n",
    "    return out_layer\n",
    "\n",
    "\n",
    "\"\"\"\n",
    "DON'T MODIFY ANYTHING IN THIS CELL THAT IS BELOW THIS LINE\n",
    "\"\"\"\n",
    "tests.test_output(output)"
   ]
  },
  {
   "cell_type": "markdown",
   "metadata": {},
   "source": [
    "### Create Convolutional Model\n",
    "Implement the function `conv_net` to create a convolutional neural network model. The function takes in a batch of images, `x`, and outputs logits.  Use the layers you created above to create this model:\n",
    "\n",
    "* Apply 1, 2, or 3 Convolution and Max Pool layers\n",
    "* Apply a Flatten Layer\n",
    "* Apply 1, 2, or 3 Fully Connected Layers\n",
    "* Apply an Output Layer\n",
    "* Return the output\n",
    "* Apply [TensorFlow's Dropout](https://www.tensorflow.org/api_docs/python/tf/nn/dropout) to one or more layers in the model using `keep_prob`. "
   ]
  },
  {
   "cell_type": "code",
   "execution_count": 20,
   "metadata": {
    "collapsed": false
   },
   "outputs": [
    {
     "name": "stdout",
     "output_type": "stream",
     "text": [
      "Neural Network Built!\n"
     ]
    }
   ],
   "source": [
    "def conv_net(x, keep_prob):\n",
    "    \"\"\"\n",
    "    Create a convolutional neural network model\n",
    "    : x: Placeholder tensor that holds image data.\n",
    "    : keep_prob: Placeholder tensor that hold dropout keep probability.\n",
    "    : return: Tensor that represents logits\n",
    "    \"\"\"\n",
    "    # TODO: Apply 1, 2, or 3 Convolution and Max Pool layers\n",
    "    #    Play around with different number of outputs, kernel size and stride\n",
    "    # Function Definition from Above:\n",
    "    #    conv2d_maxpool(x_tensor, conv_num_outputs, conv_ksize, conv_strides, pool_ksize, pool_strides)\n",
    "    layer = conv2d_maxpool(x, 32, (3, 3), (1, 1), (2, 2), (2, 2))\n",
    "    layer = conv2d_maxpool(layer, 32, (3, 3), (1, 1), (2, 2), (2, 2))\n",
    "    layer = tf.contrib.layers.dropout(layer,keep_prob)\n",
    "    layer = conv2d_maxpool(layer, 32, (3, 3), (1, 1), (2, 2), (2, 2))\n",
    "    \n",
    "    # TODO: Apply a Flatten Layer\n",
    "    # Function Definition from Above:\n",
    "    #   flatten(x_tensor)\n",
    "    layer = flatten(layer)\n",
    "\n",
    "    # TODO: Apply 1, 2, or 3 Fully Connected Layers\n",
    "    #    Play around with different number of outputs\n",
    "    # Function Definition from Above:\n",
    "    #   fully_conn(x_tensor, num_outputs)\n",
    "    layer = fully_conn(layer, 512)\n",
    "    layer = fully_conn(layer, 512)\n",
    "        \n",
    "    # TODO: Apply an Output Layer\n",
    "    #    Set this to the number of classes\n",
    "    # Function Definition from Above:\n",
    "    #   output(x_tensor, num_outputs)\n",
    "    layer = output(layer, 10)\n",
    "    \n",
    "    # TODO: return output\n",
    "    return layer\n",
    "\n",
    "\n",
    "\"\"\"\n",
    "DON'T MODIFY ANYTHING IN THIS CELL THAT IS BELOW THIS LINE\n",
    "\"\"\"\n",
    "\n",
    "##############################\n",
    "## Build the Neural Network ##\n",
    "##############################\n",
    "\n",
    "# Remove previous weights, bias, inputs, etc..\n",
    "tf.reset_default_graph()\n",
    "\n",
    "# Inputs\n",
    "x = neural_net_image_input((32, 32, 3))\n",
    "y = neural_net_label_input(10)\n",
    "keep_prob = neural_net_keep_prob_input()\n",
    "\n",
    "# Model\n",
    "logits = conv_net(x, keep_prob)\n",
    "\n",
    "# Name logits Tensor, so that is can be loaded from disk after training\n",
    "logits = tf.identity(logits, name='logits')\n",
    "\n",
    "# Loss and Optimizer\n",
    "cost = tf.reduce_mean(tf.nn.softmax_cross_entropy_with_logits(logits=logits, labels=y))\n",
    "optimizer = tf.train.AdamOptimizer().minimize(cost)\n",
    "\n",
    "# Accuracy\n",
    "correct_pred = tf.equal(tf.argmax(logits, 1), tf.argmax(y, 1))\n",
    "accuracy = tf.reduce_mean(tf.cast(correct_pred, tf.float32), name='accuracy')\n",
    "\n",
    "tests.test_conv_net(conv_net)"
   ]
  },
  {
   "cell_type": "markdown",
   "metadata": {},
   "source": [
    "## Train the Neural Network\n",
    "### Single Optimization\n",
    "Implement the function `train_neural_network` to do a single optimization.  The optimization should use `optimizer` to optimize in `session` with a `feed_dict` of the following:\n",
    "* `x` for image input\n",
    "* `y` for labels\n",
    "* `keep_prob` for keep probability for dropout\n",
    "\n",
    "This function will be called for each batch, so `tf.global_variables_initializer()` has already been called.\n",
    "\n",
    "Note: Nothing needs to be returned. This function is only optimizing the neural network."
   ]
  },
  {
   "cell_type": "code",
   "execution_count": 21,
   "metadata": {
    "collapsed": false
   },
   "outputs": [
    {
     "name": "stdout",
     "output_type": "stream",
     "text": [
      "Tests Passed\n"
     ]
    }
   ],
   "source": [
    "def train_neural_network(session, optimizer, keep_probability, feature_batch, label_batch):\n",
    "    \"\"\"\n",
    "    Optimize the session on a batch of images and labels\n",
    "    : session: Current TensorFlow session\n",
    "    : optimizer: TensorFlow optimizer function\n",
    "    : keep_probability: keep probability\n",
    "    : feature_batch: Batch of Numpy image data\n",
    "    : label_batch: Batch of Numpy label data\n",
    "    \"\"\"\n",
    "    # TODO: Implement Function\n",
    "    session.run(optimizer, feed_dict={x:feature_batch,y:label_batch,keep_prob:keep_probability})\n",
    "    \n",
    "\n",
    "\"\"\"\n",
    "DON'T MODIFY ANYTHING IN THIS CELL THAT IS BELOW THIS LINE\n",
    "\"\"\"\n",
    "tests.test_train_nn(train_neural_network)"
   ]
  },
  {
   "cell_type": "markdown",
   "metadata": {},
   "source": [
    "### Show Stats\n",
    "Implement the function `print_stats` to print loss and validation accuracy.  Use the global variables `valid_features` and `valid_labels` to calculate validation accuracy.  Use a keep probability of `1.0` to calculate the loss and validation accuracy."
   ]
  },
  {
   "cell_type": "code",
   "execution_count": 22,
   "metadata": {
    "collapsed": false
   },
   "outputs": [],
   "source": [
    "def print_stats(session, feature_batch, label_batch, cost, accuracy):\n",
    "    \"\"\"\n",
    "    Print information about loss and validation accuracy\n",
    "    : session: Current TensorFlow session\n",
    "    : feature_batch: Batch of Numpy image data\n",
    "    : label_batch: Batch of Numpy label data\n",
    "    : cost: TensorFlow cost function\n",
    "    : accuracy: TensorFlow accuracy function\n",
    "    \"\"\"\n",
    "    # TODO: Implement Function\n",
    "    loss = sess.run(cost, feed_dict={x: feature_batch, y: label_batch, keep_prob: 1.})\n",
    "    valid_acc = sess.run(accuracy, feed_dict={x: valid_features,y: valid_labels, keep_prob: 1.})\n",
    "    print('Loss:{:10.4f} Validation Accuracy:{:.6f}'.format(loss,valid_acc))"
   ]
  },
  {
   "cell_type": "markdown",
   "metadata": {},
   "source": [
    "### Hyperparameters\n",
    "Tune the following parameters:\n",
    "* Set `epochs` to the number of iterations until the network stops learning or start overfitting\n",
    "* Set `batch_size` to the highest number that your machine has memory for.  Most people set them to common sizes of memory:\n",
    " * 64\n",
    " * 128\n",
    " * 256\n",
    " * ...\n",
    "* Set `keep_probability` to the probability of keeping a node using dropout"
   ]
  },
  {
   "cell_type": "code",
   "execution_count": 23,
   "metadata": {
    "collapsed": true
   },
   "outputs": [],
   "source": [
    "# TODO: Tune Parameters\n",
    "epochs = 50\n",
    "batch_size = 256\n",
    "keep_probability = 0.5"
   ]
  },
  {
   "cell_type": "markdown",
   "metadata": {},
   "source": [
    "### Train on a Single CIFAR-10 Batch\n",
    "Instead of training the neural network on all the CIFAR-10 batches of data, let's use a single batch. This should save time while you iterate on the model to get a better accuracy.  Once the final validation accuracy is 50% or greater, run the model on all the data in the next section."
   ]
  },
  {
   "cell_type": "code",
   "execution_count": 24,
   "metadata": {
    "collapsed": false
   },
   "outputs": [
    {
     "name": "stdout",
     "output_type": "stream",
     "text": [
      "Checking the Training on a Single Batch...\n",
      "Epoch  1, CIFAR-10 Batch 1:  Loss:   13.0532 Validation Accuracy:0.148200\n",
      "Epoch  2, CIFAR-10 Batch 1:  Loss:    7.4189 Validation Accuracy:0.151600\n",
      "Epoch  3, CIFAR-10 Batch 1:  Loss:    4.8472 Validation Accuracy:0.153000\n",
      "Epoch  4, CIFAR-10 Batch 1:  Loss:    3.2718 Validation Accuracy:0.153200\n",
      "Epoch  5, CIFAR-10 Batch 1:  Loss:    2.3692 Validation Accuracy:0.160200\n",
      "Epoch  6, CIFAR-10 Batch 1:  Loss:    2.5705 Validation Accuracy:0.161200\n",
      "Epoch  7, CIFAR-10 Batch 1:  Loss:    2.3357 Validation Accuracy:0.168200\n",
      "Epoch  8, CIFAR-10 Batch 1:  Loss:    2.3795 Validation Accuracy:0.158400\n",
      "Epoch  9, CIFAR-10 Batch 1:  Loss:    2.2813 Validation Accuracy:0.187600\n",
      "Epoch 10, CIFAR-10 Batch 1:  Loss:    2.2757 Validation Accuracy:0.159200\n",
      "Epoch 11, CIFAR-10 Batch 1:  Loss:    2.2774 Validation Accuracy:0.184600\n",
      "Epoch 12, CIFAR-10 Batch 1:  Loss:    2.2702 Validation Accuracy:0.196200\n",
      "Epoch 13, CIFAR-10 Batch 1:  Loss:    2.2522 Validation Accuracy:0.206600\n",
      "Epoch 14, CIFAR-10 Batch 1:  Loss:    2.1976 Validation Accuracy:0.188200\n",
      "Epoch 15, CIFAR-10 Batch 1:  Loss:    2.2052 Validation Accuracy:0.194800\n",
      "Epoch 16, CIFAR-10 Batch 1:  Loss:    2.1411 Validation Accuracy:0.201600\n",
      "Epoch 17, CIFAR-10 Batch 1:  Loss:    2.1666 Validation Accuracy:0.213800\n",
      "Epoch 18, CIFAR-10 Batch 1:  Loss:    2.1580 Validation Accuracy:0.206800\n",
      "Epoch 19, CIFAR-10 Batch 1:  Loss:    2.1534 Validation Accuracy:0.227400\n",
      "Epoch 20, CIFAR-10 Batch 1:  Loss:    2.1173 Validation Accuracy:0.230200\n",
      "Epoch 21, CIFAR-10 Batch 1:  Loss:    2.1800 Validation Accuracy:0.253600\n",
      "Epoch 22, CIFAR-10 Batch 1:  Loss:    2.1391 Validation Accuracy:0.232800\n",
      "Epoch 23, CIFAR-10 Batch 1:  Loss:    2.1521 Validation Accuracy:0.255800\n",
      "Epoch 24, CIFAR-10 Batch 1:  Loss:    2.1227 Validation Accuracy:0.267800\n",
      "Epoch 25, CIFAR-10 Batch 1:  Loss:    2.1060 Validation Accuracy:0.264200\n",
      "Epoch 26, CIFAR-10 Batch 1:  Loss:    2.1347 Validation Accuracy:0.237600\n",
      "Epoch 27, CIFAR-10 Batch 1:  Loss:    2.1084 Validation Accuracy:0.257400\n",
      "Epoch 28, CIFAR-10 Batch 1:  Loss:    2.1115 Validation Accuracy:0.269400\n",
      "Epoch 29, CIFAR-10 Batch 1:  Loss:    2.0637 Validation Accuracy:0.251400\n",
      "Epoch 30, CIFAR-10 Batch 1:  Loss:    2.0707 Validation Accuracy:0.258000\n",
      "Epoch 31, CIFAR-10 Batch 1:  Loss:    2.0641 Validation Accuracy:0.278000\n",
      "Epoch 32, CIFAR-10 Batch 1:  Loss:    2.0705 Validation Accuracy:0.268600\n",
      "Epoch 33, CIFAR-10 Batch 1:  Loss:    2.0301 Validation Accuracy:0.276600\n",
      "Epoch 34, CIFAR-10 Batch 1:  Loss:    2.0367 Validation Accuracy:0.284200\n",
      "Epoch 35, CIFAR-10 Batch 1:  Loss:    2.0944 Validation Accuracy:0.289200\n",
      "Epoch 36, CIFAR-10 Batch 1:  Loss:    2.0727 Validation Accuracy:0.296600\n",
      "Epoch 37, CIFAR-10 Batch 1:  Loss:    2.0947 Validation Accuracy:0.289400\n",
      "Epoch 38, CIFAR-10 Batch 1:  Loss:    2.0391 Validation Accuracy:0.297600\n",
      "Epoch 39, CIFAR-10 Batch 1:  Loss:    2.0144 Validation Accuracy:0.297600\n",
      "Epoch 40, CIFAR-10 Batch 1:  Loss:    2.0351 Validation Accuracy:0.311400\n",
      "Epoch 41, CIFAR-10 Batch 1:  Loss:    2.0667 Validation Accuracy:0.315600\n",
      "Epoch 42, CIFAR-10 Batch 1:  Loss:    2.0244 Validation Accuracy:0.308800\n",
      "Epoch 43, CIFAR-10 Batch 1:  Loss:    1.9791 Validation Accuracy:0.315000\n",
      "Epoch 44, CIFAR-10 Batch 1:  Loss:    2.0221 Validation Accuracy:0.297800\n",
      "Epoch 45, CIFAR-10 Batch 1:  Loss:    2.0082 Validation Accuracy:0.298200\n",
      "Epoch 46, CIFAR-10 Batch 1:  Loss:    2.0239 Validation Accuracy:0.311200\n",
      "Epoch 47, CIFAR-10 Batch 1:  Loss:    1.9821 Validation Accuracy:0.307800\n",
      "Epoch 48, CIFAR-10 Batch 1:  Loss:    1.9895 Validation Accuracy:0.322800\n",
      "Epoch 49, CIFAR-10 Batch 1:  Loss:    1.9848 Validation Accuracy:0.322600\n",
      "Epoch 50, CIFAR-10 Batch 1:  Loss:    1.9741 Validation Accuracy:0.323400\n"
     ]
    }
   ],
   "source": [
    "\"\"\"\n",
    "DON'T MODIFY ANYTHING IN THIS CELL\n",
    "\"\"\"\n",
    "print('Checking the Training on a Single Batch...')\n",
    "with tf.Session() as sess:\n",
    "    # Initializing the variables\n",
    "    sess.run(tf.global_variables_initializer())\n",
    "    \n",
    "    # Training cycle\n",
    "    for epoch in range(epochs):\n",
    "        batch_i = 1\n",
    "        for batch_features, batch_labels in helper.load_preprocess_training_batch(batch_i, batch_size):\n",
    "            train_neural_network(sess, optimizer, keep_probability, batch_features, batch_labels)\n",
    "        print('Epoch {:>2}, CIFAR-10 Batch {}:  '.format(epoch + 1, batch_i), end='')\n",
    "        print_stats(sess, batch_features, batch_labels, cost, accuracy)"
   ]
  },
  {
   "cell_type": "markdown",
   "metadata": {},
   "source": [
    "### Fully Train the Model\n",
    "Now that you got a good accuracy with a single CIFAR-10 batch, try it with all five batches."
   ]
  },
  {
   "cell_type": "code",
   "execution_count": 25,
   "metadata": {
    "collapsed": false
   },
   "outputs": [
    {
     "name": "stdout",
     "output_type": "stream",
     "text": [
      "Training...\n",
      "Epoch  1, CIFAR-10 Batch 1:  Loss:   31.5054 Validation Accuracy:0.103800\n",
      "Epoch  1, CIFAR-10 Batch 2:  Loss:   10.9600 Validation Accuracy:0.123200\n",
      "Epoch  1, CIFAR-10 Batch 3:  Loss:    6.0828 Validation Accuracy:0.126800\n",
      "Epoch  1, CIFAR-10 Batch 4:  Loss:    4.6709 Validation Accuracy:0.119400\n",
      "Epoch  1, CIFAR-10 Batch 5:  Loss:    3.4606 Validation Accuracy:0.125000\n",
      "Epoch  2, CIFAR-10 Batch 1:  Loss:    3.4496 Validation Accuracy:0.120000\n",
      "Epoch  2, CIFAR-10 Batch 2:  Loss:    3.2500 Validation Accuracy:0.127000\n",
      "Epoch  2, CIFAR-10 Batch 3:  Loss:    2.7313 Validation Accuracy:0.132600\n",
      "Epoch  2, CIFAR-10 Batch 4:  Loss:    2.7761 Validation Accuracy:0.118200\n",
      "Epoch  2, CIFAR-10 Batch 5:  Loss:    2.5352 Validation Accuracy:0.141800\n",
      "Epoch  3, CIFAR-10 Batch 1:  Loss:    2.2642 Validation Accuracy:0.150800\n",
      "Epoch  3, CIFAR-10 Batch 2:  Loss:    3.0804 Validation Accuracy:0.120200\n",
      "Epoch  3, CIFAR-10 Batch 3:  Loss:    2.2075 Validation Accuracy:0.141800\n",
      "Epoch  3, CIFAR-10 Batch 4:  Loss:    2.3092 Validation Accuracy:0.137000\n",
      "Epoch  3, CIFAR-10 Batch 5:  Loss:    2.3404 Validation Accuracy:0.159200\n",
      "Epoch  4, CIFAR-10 Batch 1:  Loss:    2.1436 Validation Accuracy:0.151400\n",
      "Epoch  4, CIFAR-10 Batch 2:  Loss:    2.3426 Validation Accuracy:0.159400\n",
      "Epoch  4, CIFAR-10 Batch 3:  Loss:    2.0988 Validation Accuracy:0.149200\n",
      "Epoch  4, CIFAR-10 Batch 4:  Loss:    2.2881 Validation Accuracy:0.158600\n",
      "Epoch  4, CIFAR-10 Batch 5:  Loss:    2.2551 Validation Accuracy:0.163600\n",
      "Epoch  5, CIFAR-10 Batch 1:  Loss:    2.1300 Validation Accuracy:0.162000\n",
      "Epoch  5, CIFAR-10 Batch 2:  Loss:    2.2237 Validation Accuracy:0.163000\n",
      "Epoch  5, CIFAR-10 Batch 3:  Loss:    1.9180 Validation Accuracy:0.189600\n",
      "Epoch  5, CIFAR-10 Batch 4:  Loss:    2.2110 Validation Accuracy:0.172400\n",
      "Epoch  5, CIFAR-10 Batch 5:  Loss:    2.2359 Validation Accuracy:0.175400\n",
      "Epoch  6, CIFAR-10 Batch 1:  Loss:    2.1328 Validation Accuracy:0.195400\n",
      "Epoch  6, CIFAR-10 Batch 2:  Loss:    2.2085 Validation Accuracy:0.183800\n",
      "Epoch  6, CIFAR-10 Batch 3:  Loss:    1.9763 Validation Accuracy:0.184000\n",
      "Epoch  6, CIFAR-10 Batch 4:  Loss:    2.1856 Validation Accuracy:0.174000\n",
      "Epoch  6, CIFAR-10 Batch 5:  Loss:    2.1778 Validation Accuracy:0.189200\n",
      "Epoch  7, CIFAR-10 Batch 1:  Loss:    2.1324 Validation Accuracy:0.203200\n",
      "Epoch  7, CIFAR-10 Batch 2:  Loss:    2.1998 Validation Accuracy:0.170200\n",
      "Epoch  7, CIFAR-10 Batch 3:  Loss:    1.8261 Validation Accuracy:0.212200\n",
      "Epoch  7, CIFAR-10 Batch 4:  Loss:    2.0895 Validation Accuracy:0.191000\n",
      "Epoch  7, CIFAR-10 Batch 5:  Loss:    2.1389 Validation Accuracy:0.194200\n",
      "Epoch  8, CIFAR-10 Batch 1:  Loss:    2.1079 Validation Accuracy:0.226000\n",
      "Epoch  8, CIFAR-10 Batch 2:  Loss:    2.1669 Validation Accuracy:0.225800\n",
      "Epoch  8, CIFAR-10 Batch 3:  Loss:    1.8213 Validation Accuracy:0.243000\n",
      "Epoch  8, CIFAR-10 Batch 4:  Loss:    2.0588 Validation Accuracy:0.206000\n",
      "Epoch  8, CIFAR-10 Batch 5:  Loss:    2.0403 Validation Accuracy:0.211400\n",
      "Epoch  9, CIFAR-10 Batch 1:  Loss:    2.0762 Validation Accuracy:0.217800\n",
      "Epoch  9, CIFAR-10 Batch 2:  Loss:    2.1931 Validation Accuracy:0.229000\n",
      "Epoch  9, CIFAR-10 Batch 3:  Loss:    1.8502 Validation Accuracy:0.237600\n",
      "Epoch  9, CIFAR-10 Batch 4:  Loss:    1.9927 Validation Accuracy:0.239000\n",
      "Epoch  9, CIFAR-10 Batch 5:  Loss:    1.9936 Validation Accuracy:0.267200\n",
      "Epoch 10, CIFAR-10 Batch 1:  Loss:    1.9563 Validation Accuracy:0.270000\n",
      "Epoch 10, CIFAR-10 Batch 2:  Loss:    2.1116 Validation Accuracy:0.254800\n",
      "Epoch 10, CIFAR-10 Batch 3:  Loss:    1.8789 Validation Accuracy:0.260600\n",
      "Epoch 10, CIFAR-10 Batch 4:  Loss:    1.9346 Validation Accuracy:0.269400\n",
      "Epoch 10, CIFAR-10 Batch 5:  Loss:    1.9323 Validation Accuracy:0.260000\n",
      "Epoch 11, CIFAR-10 Batch 1:  Loss:    1.9545 Validation Accuracy:0.286200\n",
      "Epoch 11, CIFAR-10 Batch 2:  Loss:    2.0636 Validation Accuracy:0.266600\n",
      "Epoch 11, CIFAR-10 Batch 3:  Loss:    1.8714 Validation Accuracy:0.271400\n",
      "Epoch 11, CIFAR-10 Batch 4:  Loss:    1.8674 Validation Accuracy:0.284400\n",
      "Epoch 11, CIFAR-10 Batch 5:  Loss:    1.8900 Validation Accuracy:0.280600\n",
      "Epoch 12, CIFAR-10 Batch 1:  Loss:    1.9369 Validation Accuracy:0.322400\n",
      "Epoch 12, CIFAR-10 Batch 2:  Loss:    1.9482 Validation Accuracy:0.296800\n",
      "Epoch 12, CIFAR-10 Batch 3:  Loss:    1.8695 Validation Accuracy:0.289600\n",
      "Epoch 12, CIFAR-10 Batch 4:  Loss:    1.8754 Validation Accuracy:0.302000\n",
      "Epoch 12, CIFAR-10 Batch 5:  Loss:    1.8013 Validation Accuracy:0.300600\n",
      "Epoch 13, CIFAR-10 Batch 1:  Loss:    1.9534 Validation Accuracy:0.318200\n",
      "Epoch 13, CIFAR-10 Batch 2:  Loss:    1.9304 Validation Accuracy:0.304600\n",
      "Epoch 13, CIFAR-10 Batch 3:  Loss:    1.7790 Validation Accuracy:0.313000\n",
      "Epoch 13, CIFAR-10 Batch 4:  Loss:    1.8955 Validation Accuracy:0.322800\n",
      "Epoch 13, CIFAR-10 Batch 5:  Loss:    1.7827 Validation Accuracy:0.318600\n",
      "Epoch 14, CIFAR-10 Batch 1:  Loss:    1.9525 Validation Accuracy:0.336800\n",
      "Epoch 14, CIFAR-10 Batch 2:  Loss:    1.8975 Validation Accuracy:0.322200\n",
      "Epoch 14, CIFAR-10 Batch 3:  Loss:    1.7370 Validation Accuracy:0.344800\n",
      "Epoch 14, CIFAR-10 Batch 4:  Loss:    1.8304 Validation Accuracy:0.320000\n",
      "Epoch 14, CIFAR-10 Batch 5:  Loss:    1.7166 Validation Accuracy:0.336800\n",
      "Epoch 15, CIFAR-10 Batch 1:  Loss:    1.9703 Validation Accuracy:0.339800\n",
      "Epoch 15, CIFAR-10 Batch 2:  Loss:    1.8900 Validation Accuracy:0.333600\n",
      "Epoch 15, CIFAR-10 Batch 3:  Loss:    1.7085 Validation Accuracy:0.355000\n",
      "Epoch 15, CIFAR-10 Batch 4:  Loss:    1.8272 Validation Accuracy:0.350800\n",
      "Epoch 15, CIFAR-10 Batch 5:  Loss:    1.6826 Validation Accuracy:0.356000\n",
      "Epoch 16, CIFAR-10 Batch 1:  Loss:    1.9700 Validation Accuracy:0.361800\n",
      "Epoch 16, CIFAR-10 Batch 2:  Loss:    1.8058 Validation Accuracy:0.373400\n",
      "Epoch 16, CIFAR-10 Batch 3:  Loss:    1.6574 Validation Accuracy:0.388800\n",
      "Epoch 16, CIFAR-10 Batch 4:  Loss:    1.7807 Validation Accuracy:0.377800\n",
      "Epoch 16, CIFAR-10 Batch 5:  Loss:    1.6708 Validation Accuracy:0.380200\n",
      "Epoch 17, CIFAR-10 Batch 1:  Loss:    1.9625 Validation Accuracy:0.383000\n",
      "Epoch 17, CIFAR-10 Batch 2:  Loss:    1.7196 Validation Accuracy:0.377200\n",
      "Epoch 17, CIFAR-10 Batch 3:  Loss:    1.6109 Validation Accuracy:0.400600\n",
      "Epoch 17, CIFAR-10 Batch 4:  Loss:    1.7525 Validation Accuracy:0.385200\n",
      "Epoch 17, CIFAR-10 Batch 5:  Loss:    1.6580 Validation Accuracy:0.380600\n",
      "Epoch 18, CIFAR-10 Batch 1:  Loss:    1.9213 Validation Accuracy:0.392800\n",
      "Epoch 18, CIFAR-10 Batch 2:  Loss:    1.7212 Validation Accuracy:0.385400\n",
      "Epoch 18, CIFAR-10 Batch 3:  Loss:    1.5380 Validation Accuracy:0.415200\n",
      "Epoch 18, CIFAR-10 Batch 4:  Loss:    1.7110 Validation Accuracy:0.399800\n",
      "Epoch 18, CIFAR-10 Batch 5:  Loss:    1.6513 Validation Accuracy:0.399600\n",
      "Epoch 19, CIFAR-10 Batch 1:  Loss:    1.9660 Validation Accuracy:0.395400\n",
      "Epoch 19, CIFAR-10 Batch 2:  Loss:    1.6727 Validation Accuracy:0.395400\n",
      "Epoch 19, CIFAR-10 Batch 3:  Loss:    1.5152 Validation Accuracy:0.420000\n",
      "Epoch 19, CIFAR-10 Batch 4:  Loss:    1.6817 Validation Accuracy:0.401200\n",
      "Epoch 19, CIFAR-10 Batch 5:  Loss:    1.6581 Validation Accuracy:0.403800\n",
      "Epoch 20, CIFAR-10 Batch 1:  Loss:    1.8765 Validation Accuracy:0.414800\n",
      "Epoch 20, CIFAR-10 Batch 2:  Loss:    1.5836 Validation Accuracy:0.414000\n",
      "Epoch 20, CIFAR-10 Batch 3:  Loss:    1.4735 Validation Accuracy:0.431400\n",
      "Epoch 20, CIFAR-10 Batch 4:  Loss:    1.6523 Validation Accuracy:0.422200\n",
      "Epoch 20, CIFAR-10 Batch 5:  Loss:    1.5971 Validation Accuracy:0.413400\n",
      "Epoch 21, CIFAR-10 Batch 1:  Loss:    1.7766 Validation Accuracy:0.435000\n",
      "Epoch 21, CIFAR-10 Batch 2:  Loss:    1.5556 Validation Accuracy:0.420400\n",
      "Epoch 21, CIFAR-10 Batch 3:  Loss:    1.4214 Validation Accuracy:0.427600\n",
      "Epoch 21, CIFAR-10 Batch 4:  Loss:    1.6577 Validation Accuracy:0.420800\n",
      "Epoch 21, CIFAR-10 Batch 5:  Loss:    1.5890 Validation Accuracy:0.420800\n",
      "Epoch 22, CIFAR-10 Batch 1:  Loss:    1.7683 Validation Accuracy:0.433800\n",
      "Epoch 22, CIFAR-10 Batch 2:  Loss:    1.5214 Validation Accuracy:0.429800\n",
      "Epoch 22, CIFAR-10 Batch 3:  Loss:    1.3632 Validation Accuracy:0.440000\n",
      "Epoch 22, CIFAR-10 Batch 4:  Loss:    1.5950 Validation Accuracy:0.437000\n",
      "Epoch 22, CIFAR-10 Batch 5:  Loss:    1.6105 Validation Accuracy:0.426800\n",
      "Epoch 23, CIFAR-10 Batch 1:  Loss:    1.7072 Validation Accuracy:0.450600\n",
      "Epoch 23, CIFAR-10 Batch 2:  Loss:    1.4959 Validation Accuracy:0.436200\n",
      "Epoch 23, CIFAR-10 Batch 3:  Loss:    1.3526 Validation Accuracy:0.450000\n",
      "Epoch 23, CIFAR-10 Batch 4:  Loss:    1.6017 Validation Accuracy:0.438000\n",
      "Epoch 23, CIFAR-10 Batch 5:  Loss:    1.5202 Validation Accuracy:0.437200\n",
      "Epoch 24, CIFAR-10 Batch 1:  Loss:    1.6573 Validation Accuracy:0.460000\n",
      "Epoch 24, CIFAR-10 Batch 2:  Loss:    1.4532 Validation Accuracy:0.439800\n",
      "Epoch 24, CIFAR-10 Batch 3:  Loss:    1.3165 Validation Accuracy:0.457800\n",
      "Epoch 24, CIFAR-10 Batch 4:  Loss:    1.5425 Validation Accuracy:0.447800\n",
      "Epoch 24, CIFAR-10 Batch 5:  Loss:    1.4990 Validation Accuracy:0.435400\n",
      "Epoch 25, CIFAR-10 Batch 1:  Loss:    1.6828 Validation Accuracy:0.469600\n",
      "Epoch 25, CIFAR-10 Batch 2:  Loss:    1.4222 Validation Accuracy:0.447400\n",
      "Epoch 25, CIFAR-10 Batch 3:  Loss:    1.2850 Validation Accuracy:0.457400\n",
      "Epoch 25, CIFAR-10 Batch 4:  Loss:    1.5677 Validation Accuracy:0.455600\n",
      "Epoch 25, CIFAR-10 Batch 5:  Loss:    1.4623 Validation Accuracy:0.449400\n",
      "Epoch 26, CIFAR-10 Batch 1:  Loss:    1.6573 Validation Accuracy:0.474400\n",
      "Epoch 26, CIFAR-10 Batch 2:  Loss:    1.3965 Validation Accuracy:0.444400\n",
      "Epoch 26, CIFAR-10 Batch 3:  Loss:    1.2289 Validation Accuracy:0.470800\n",
      "Epoch 26, CIFAR-10 Batch 4:  Loss:    1.4465 Validation Accuracy:0.454800\n",
      "Epoch 26, CIFAR-10 Batch 5:  Loss:    1.4726 Validation Accuracy:0.445800\n",
      "Epoch 27, CIFAR-10 Batch 1:  Loss:    1.6492 Validation Accuracy:0.466000\n",
      "Epoch 27, CIFAR-10 Batch 2:  Loss:    1.3635 Validation Accuracy:0.473400\n",
      "Epoch 27, CIFAR-10 Batch 3:  Loss:    1.2142 Validation Accuracy:0.475800\n",
      "Epoch 27, CIFAR-10 Batch 4:  Loss:    1.4714 Validation Accuracy:0.473600\n",
      "Epoch 27, CIFAR-10 Batch 5:  Loss:    1.4391 Validation Accuracy:0.455200\n",
      "Epoch 28, CIFAR-10 Batch 1:  Loss:    1.5733 Validation Accuracy:0.488800\n",
      "Epoch 28, CIFAR-10 Batch 2:  Loss:    1.3238 Validation Accuracy:0.465600\n",
      "Epoch 28, CIFAR-10 Batch 3:  Loss:    1.1768 Validation Accuracy:0.484400\n",
      "Epoch 28, CIFAR-10 Batch 4:  Loss:    1.4390 Validation Accuracy:0.481400\n",
      "Epoch 28, CIFAR-10 Batch 5:  Loss:    1.4383 Validation Accuracy:0.450200\n",
      "Epoch 29, CIFAR-10 Batch 1:  Loss:    1.5204 Validation Accuracy:0.488800\n",
      "Epoch 29, CIFAR-10 Batch 2:  Loss:    1.3406 Validation Accuracy:0.471800\n",
      "Epoch 29, CIFAR-10 Batch 3:  Loss:    1.1954 Validation Accuracy:0.491200\n",
      "Epoch 29, CIFAR-10 Batch 4:  Loss:    1.4051 Validation Accuracy:0.490600\n",
      "Epoch 29, CIFAR-10 Batch 5:  Loss:    1.4204 Validation Accuracy:0.467800\n",
      "Epoch 30, CIFAR-10 Batch 1:  Loss:    1.5229 Validation Accuracy:0.493200\n",
      "Epoch 30, CIFAR-10 Batch 2:  Loss:    1.2583 Validation Accuracy:0.484800\n",
      "Epoch 30, CIFAR-10 Batch 3:  Loss:    1.1619 Validation Accuracy:0.491200\n",
      "Epoch 30, CIFAR-10 Batch 4:  Loss:    1.3751 Validation Accuracy:0.494800\n",
      "Epoch 30, CIFAR-10 Batch 5:  Loss:    1.3869 Validation Accuracy:0.471200\n",
      "Epoch 31, CIFAR-10 Batch 1:  Loss:    1.4402 Validation Accuracy:0.499000\n",
      "Epoch 31, CIFAR-10 Batch 2:  Loss:    1.2369 Validation Accuracy:0.481400\n",
      "Epoch 31, CIFAR-10 Batch 3:  Loss:    1.1065 Validation Accuracy:0.513200\n",
      "Epoch 31, CIFAR-10 Batch 4:  Loss:    1.3600 Validation Accuracy:0.490400\n",
      "Epoch 31, CIFAR-10 Batch 5:  Loss:    1.3714 Validation Accuracy:0.468400\n",
      "Epoch 32, CIFAR-10 Batch 1:  Loss:    1.3893 Validation Accuracy:0.509800\n",
      "Epoch 32, CIFAR-10 Batch 2:  Loss:    1.2152 Validation Accuracy:0.497000\n",
      "Epoch 32, CIFAR-10 Batch 3:  Loss:    1.0617 Validation Accuracy:0.509000\n",
      "Epoch 32, CIFAR-10 Batch 4:  Loss:    1.3364 Validation Accuracy:0.496200\n",
      "Epoch 32, CIFAR-10 Batch 5:  Loss:    1.3712 Validation Accuracy:0.476800\n",
      "Epoch 33, CIFAR-10 Batch 1:  Loss:    1.3634 Validation Accuracy:0.513000\n",
      "Epoch 33, CIFAR-10 Batch 2:  Loss:    1.2053 Validation Accuracy:0.490200\n",
      "Epoch 33, CIFAR-10 Batch 3:  Loss:    1.0524 Validation Accuracy:0.518600\n",
      "Epoch 33, CIFAR-10 Batch 4:  Loss:    1.3268 Validation Accuracy:0.497400\n",
      "Epoch 33, CIFAR-10 Batch 5:  Loss:    1.3163 Validation Accuracy:0.483600\n",
      "Epoch 34, CIFAR-10 Batch 1:  Loss:    1.3489 Validation Accuracy:0.513000\n",
      "Epoch 34, CIFAR-10 Batch 2:  Loss:    1.1903 Validation Accuracy:0.495800\n",
      "Epoch 34, CIFAR-10 Batch 3:  Loss:    1.0624 Validation Accuracy:0.517800\n",
      "Epoch 34, CIFAR-10 Batch 4:  Loss:    1.2290 Validation Accuracy:0.504600\n",
      "Epoch 34, CIFAR-10 Batch 5:  Loss:    1.3232 Validation Accuracy:0.502000\n",
      "Epoch 35, CIFAR-10 Batch 1:  Loss:    1.3703 Validation Accuracy:0.516600\n",
      "Epoch 35, CIFAR-10 Batch 2:  Loss:    1.1639 Validation Accuracy:0.508800\n",
      "Epoch 35, CIFAR-10 Batch 3:  Loss:    1.0447 Validation Accuracy:0.516200\n",
      "Epoch 35, CIFAR-10 Batch 4:  Loss:    1.2816 Validation Accuracy:0.508600\n",
      "Epoch 35, CIFAR-10 Batch 5:  Loss:    1.3252 Validation Accuracy:0.498000\n",
      "Epoch 36, CIFAR-10 Batch 1:  Loss:    1.3117 Validation Accuracy:0.523600\n",
      "Epoch 36, CIFAR-10 Batch 2:  Loss:    1.1359 Validation Accuracy:0.496400\n",
      "Epoch 36, CIFAR-10 Batch 3:  Loss:    1.0430 Validation Accuracy:0.520800\n",
      "Epoch 36, CIFAR-10 Batch 4:  Loss:    1.2330 Validation Accuracy:0.502200\n",
      "Epoch 36, CIFAR-10 Batch 5:  Loss:    1.3102 Validation Accuracy:0.491400\n",
      "Epoch 37, CIFAR-10 Batch 1:  Loss:    1.3110 Validation Accuracy:0.515600\n",
      "Epoch 37, CIFAR-10 Batch 2:  Loss:    1.1252 Validation Accuracy:0.499000\n",
      "Epoch 37, CIFAR-10 Batch 3:  Loss:    1.0218 Validation Accuracy:0.533000\n",
      "Epoch 37, CIFAR-10 Batch 4:  Loss:    1.2489 Validation Accuracy:0.503200\n",
      "Epoch 37, CIFAR-10 Batch 5:  Loss:    1.3464 Validation Accuracy:0.486000\n",
      "Epoch 38, CIFAR-10 Batch 1:  Loss:    1.2964 Validation Accuracy:0.529600\n",
      "Epoch 38, CIFAR-10 Batch 2:  Loss:    1.1414 Validation Accuracy:0.506800\n",
      "Epoch 38, CIFAR-10 Batch 3:  Loss:    1.0772 Validation Accuracy:0.526800\n",
      "Epoch 38, CIFAR-10 Batch 4:  Loss:    1.1892 Validation Accuracy:0.511000\n",
      "Epoch 38, CIFAR-10 Batch 5:  Loss:    1.2632 Validation Accuracy:0.508800\n",
      "Epoch 39, CIFAR-10 Batch 1:  Loss:    1.2597 Validation Accuracy:0.536800\n",
      "Epoch 39, CIFAR-10 Batch 2:  Loss:    1.0922 Validation Accuracy:0.511600\n",
      "Epoch 39, CIFAR-10 Batch 3:  Loss:    0.9736 Validation Accuracy:0.540400\n",
      "Epoch 39, CIFAR-10 Batch 4:  Loss:    1.2075 Validation Accuracy:0.506200\n",
      "Epoch 39, CIFAR-10 Batch 5:  Loss:    1.2596 Validation Accuracy:0.511400\n",
      "Epoch 40, CIFAR-10 Batch 1:  Loss:    1.2237 Validation Accuracy:0.529600\n",
      "Epoch 40, CIFAR-10 Batch 2:  Loss:    1.0672 Validation Accuracy:0.525400\n",
      "Epoch 40, CIFAR-10 Batch 3:  Loss:    1.0188 Validation Accuracy:0.536600\n",
      "Epoch 40, CIFAR-10 Batch 4:  Loss:    1.2226 Validation Accuracy:0.502600\n",
      "Epoch 40, CIFAR-10 Batch 5:  Loss:    1.2410 Validation Accuracy:0.506000\n",
      "Epoch 41, CIFAR-10 Batch 1:  Loss:    1.1633 Validation Accuracy:0.541200\n",
      "Epoch 41, CIFAR-10 Batch 2:  Loss:    1.0502 Validation Accuracy:0.523400\n",
      "Epoch 41, CIFAR-10 Batch 3:  Loss:    0.9831 Validation Accuracy:0.546600\n",
      "Epoch 41, CIFAR-10 Batch 4:  Loss:    1.1377 Validation Accuracy:0.521400\n",
      "Epoch 41, CIFAR-10 Batch 5:  Loss:    1.2337 Validation Accuracy:0.510800\n",
      "Epoch 42, CIFAR-10 Batch 1:  Loss:    1.1825 Validation Accuracy:0.541000\n",
      "Epoch 42, CIFAR-10 Batch 2:  Loss:    1.0324 Validation Accuracy:0.539000\n",
      "Epoch 42, CIFAR-10 Batch 3:  Loss:    0.9094 Validation Accuracy:0.549800\n",
      "Epoch 42, CIFAR-10 Batch 4:  Loss:    1.1247 Validation Accuracy:0.533600\n",
      "Epoch 42, CIFAR-10 Batch 5:  Loss:    1.2068 Validation Accuracy:0.506200\n",
      "Epoch 43, CIFAR-10 Batch 1:  Loss:    1.1713 Validation Accuracy:0.543600\n",
      "Epoch 43, CIFAR-10 Batch 2:  Loss:    1.0554 Validation Accuracy:0.531600\n",
      "Epoch 43, CIFAR-10 Batch 3:  Loss:    1.0072 Validation Accuracy:0.547200\n",
      "Epoch 43, CIFAR-10 Batch 4:  Loss:    1.2020 Validation Accuracy:0.528800\n",
      "Epoch 43, CIFAR-10 Batch 5:  Loss:    1.1249 Validation Accuracy:0.516800\n",
      "Epoch 44, CIFAR-10 Batch 1:  Loss:    1.1785 Validation Accuracy:0.552800\n",
      "Epoch 44, CIFAR-10 Batch 2:  Loss:    0.9989 Validation Accuracy:0.541200\n",
      "Epoch 44, CIFAR-10 Batch 3:  Loss:    0.9332 Validation Accuracy:0.556600\n",
      "Epoch 44, CIFAR-10 Batch 4:  Loss:    1.1299 Validation Accuracy:0.534400\n",
      "Epoch 44, CIFAR-10 Batch 5:  Loss:    1.1752 Validation Accuracy:0.527400\n",
      "Epoch 45, CIFAR-10 Batch 1:  Loss:    1.1242 Validation Accuracy:0.554200\n",
      "Epoch 45, CIFAR-10 Batch 2:  Loss:    1.0062 Validation Accuracy:0.539400\n",
      "Epoch 45, CIFAR-10 Batch 3:  Loss:    0.8867 Validation Accuracy:0.557200\n",
      "Epoch 45, CIFAR-10 Batch 4:  Loss:    1.0527 Validation Accuracy:0.532600\n",
      "Epoch 45, CIFAR-10 Batch 5:  Loss:    1.0857 Validation Accuracy:0.540200\n",
      "Epoch 46, CIFAR-10 Batch 1:  Loss:    1.1249 Validation Accuracy:0.559000\n",
      "Epoch 46, CIFAR-10 Batch 2:  Loss:    0.9342 Validation Accuracy:0.552400\n",
      "Epoch 46, CIFAR-10 Batch 3:  Loss:    0.8834 Validation Accuracy:0.562200\n",
      "Epoch 46, CIFAR-10 Batch 4:  Loss:    1.1039 Validation Accuracy:0.526600\n",
      "Epoch 46, CIFAR-10 Batch 5:  Loss:    1.0979 Validation Accuracy:0.515800\n",
      "Epoch 47, CIFAR-10 Batch 1:  Loss:    1.1307 Validation Accuracy:0.556000\n",
      "Epoch 47, CIFAR-10 Batch 2:  Loss:    0.9453 Validation Accuracy:0.551800\n",
      "Epoch 47, CIFAR-10 Batch 3:  Loss:    0.9239 Validation Accuracy:0.563600\n",
      "Epoch 47, CIFAR-10 Batch 4:  Loss:    0.9923 Validation Accuracy:0.539400\n",
      "Epoch 47, CIFAR-10 Batch 5:  Loss:    1.0701 Validation Accuracy:0.535800\n",
      "Epoch 48, CIFAR-10 Batch 1:  Loss:    1.0894 Validation Accuracy:0.566400\n",
      "Epoch 48, CIFAR-10 Batch 2:  Loss:    0.9222 Validation Accuracy:0.545400\n",
      "Epoch 48, CIFAR-10 Batch 3:  Loss:    0.8601 Validation Accuracy:0.557600\n",
      "Epoch 48, CIFAR-10 Batch 4:  Loss:    1.1098 Validation Accuracy:0.541400\n",
      "Epoch 48, CIFAR-10 Batch 5:  Loss:    1.0146 Validation Accuracy:0.555800\n",
      "Epoch 49, CIFAR-10 Batch 1:  Loss:    1.0406 Validation Accuracy:0.565800\n",
      "Epoch 49, CIFAR-10 Batch 2:  Loss:    0.9156 Validation Accuracy:0.565400\n",
      "Epoch 49, CIFAR-10 Batch 3:  Loss:    0.8594 Validation Accuracy:0.577600\n",
      "Epoch 49, CIFAR-10 Batch 4:  Loss:    0.9821 Validation Accuracy:0.545400\n",
      "Epoch 49, CIFAR-10 Batch 5:  Loss:    1.0522 Validation Accuracy:0.535200\n",
      "Epoch 50, CIFAR-10 Batch 1:  Loss:    1.0991 Validation Accuracy:0.564200\n",
      "Epoch 50, CIFAR-10 Batch 2:  Loss:    0.8983 Validation Accuracy:0.559400\n",
      "Epoch 50, CIFAR-10 Batch 3:  Loss:    0.8674 Validation Accuracy:0.565000\n",
      "Epoch 50, CIFAR-10 Batch 4:  Loss:    0.9658 Validation Accuracy:0.560400\n",
      "Epoch 50, CIFAR-10 Batch 5:  Loss:    0.9873 Validation Accuracy:0.546000\n"
     ]
    }
   ],
   "source": [
    "\"\"\"\n",
    "DON'T MODIFY ANYTHING IN THIS CELL\n",
    "\"\"\"\n",
    "save_model_path = './image_classification'\n",
    "\n",
    "print('Training...')\n",
    "with tf.Session() as sess:\n",
    "    # Initializing the variables\n",
    "    sess.run(tf.global_variables_initializer())\n",
    "    \n",
    "    # Training cycle\n",
    "    for epoch in range(epochs):\n",
    "        # Loop over all batches\n",
    "        n_batches = 5\n",
    "        for batch_i in range(1, n_batches + 1):\n",
    "            for batch_features, batch_labels in helper.load_preprocess_training_batch(batch_i, batch_size):\n",
    "                train_neural_network(sess, optimizer, keep_probability, batch_features, batch_labels)\n",
    "            print('Epoch {:>2}, CIFAR-10 Batch {}:  '.format(epoch + 1, batch_i), end='')\n",
    "            print_stats(sess, batch_features, batch_labels, cost, accuracy)\n",
    "            \n",
    "    # Save Model\n",
    "    saver = tf.train.Saver()\n",
    "    save_path = saver.save(sess, save_model_path)"
   ]
  },
  {
   "cell_type": "markdown",
   "metadata": {},
   "source": [
    "# Checkpoint\n",
    "The model has been saved to disk.\n",
    "## Test Model\n",
    "Test your model against the test dataset.  This will be your final accuracy. You should have an accuracy greater than 50%. If you don't, keep tweaking the model architecture and parameters."
   ]
  },
  {
   "cell_type": "code",
   "execution_count": 26,
   "metadata": {
    "collapsed": false
   },
   "outputs": [
    {
     "name": "stdout",
     "output_type": "stream",
     "text": [
      "Testing Accuracy: 0.54384765625\n",
      "\n"
     ]
    },
    {
     "data": {
      "image/png": "[encoded data removed]",
      "text/plain": [
       "<matplotlib.figure.Figure at 0x1ea03c56198>"
      ]
     },
     "metadata": {
      "image/png": {
       "height": 319,
       "width": 355
      }
     },
     "output_type": "display_data"
    }
   ],
   "source": [
    "\"\"\"\n",
    "DON'T MODIFY ANYTHING IN THIS CELL\n",
    "\"\"\"\n",
    "%matplotlib inline\n",
    "%config InlineBackend.figure_format = 'retina'\n",
    "\n",
    "import tensorflow as tf\n",
    "import pickle\n",
    "import helper\n",
    "import random\n",
    "\n",
    "# Set batch size if not already set\n",
    "try:\n",
    "    if batch_size:\n",
    "        pass\n",
    "except NameError:\n",
    "    batch_size = 64\n",
    "\n",
    "save_model_path = './image_classification'\n",
    "n_samples = 4\n",
    "top_n_predictions = 3\n",
    "\n",
    "def test_model():\n",
    "    \"\"\"\n",
    "    Test the saved model against the test dataset\n",
    "    \"\"\"\n",
    "\n",
    "    test_features, test_labels = pickle.load(open('preprocess_training.p', mode='rb'))\n",
    "    loaded_graph = tf.Graph()\n",
    "\n",
    "    with tf.Session(graph=loaded_graph) as sess:\n",
    "        # Load model\n",
    "        loader = tf.train.import_meta_graph(save_model_path + '.meta')\n",
    "        loader.restore(sess, save_model_path)\n",
    "\n",
    "        # Get Tensors from loaded model\n",
    "        loaded_x = loaded_graph.get_tensor_by_name('x:0')\n",
    "        loaded_y = loaded_graph.get_tensor_by_name('y:0')\n",
    "        loaded_keep_prob = loaded_graph.get_tensor_by_name('keep_prob:0')\n",
    "        loaded_logits = loaded_graph.get_tensor_by_name('logits:0')\n",
    "        loaded_acc = loaded_graph.get_tensor_by_name('accuracy:0')\n",
    "        \n",
    "        # Get accuracy in batches for memory limitations\n",
    "        test_batch_acc_total = 0\n",
    "        test_batch_count = 0\n",
    "        \n",
    "        for train_feature_batch, train_label_batch in helper.batch_features_labels(test_features, test_labels, batch_size):\n",
    "            test_batch_acc_total += sess.run(\n",
    "                loaded_acc,\n",
    "                feed_dict={loaded_x: train_feature_batch, loaded_y: train_label_batch, loaded_keep_prob: 1.0})\n",
    "            test_batch_count += 1\n",
    "\n",
    "        print('Testing Accuracy: {}\\n'.format(test_batch_acc_total/test_batch_count))\n",
    "\n",
    "        # Print Random Samples\n",
    "        random_test_features, random_test_labels = tuple(zip(*random.sample(list(zip(test_features, test_labels)), n_samples)))\n",
    "        random_test_predictions = sess.run(\n",
    "            tf.nn.top_k(tf.nn.softmax(loaded_logits), top_n_predictions),\n",
    "            feed_dict={loaded_x: random_test_features, loaded_y: random_test_labels, loaded_keep_prob: 1.0})\n",
    "        helper.display_image_predictions(random_test_features, random_test_labels, random_test_predictions)\n",
    "\n",
    "\n",
    "test_model()"
   ]
  },
  {
   "cell_type": "markdown",
   "metadata": {},
   "source": [
    "## Why 50-70% Accuracy?\n",
    "You might be wondering why you can't get an accuracy any higher. First things first, 50% isn't bad for a simple CNN.  Pure guessing would get you 10% accuracy. However, you might notice people are getting scores [well above 70%](http://rodrigob.github.io/are_we_there_yet/build/classification_datasets_results.html#43494641522d3130).  That's because we haven't taught you all there is to know about neural networks. We still need to cover a few more techniques.\n",
    "## Submitting This Project\n",
    "When submitting this project, make sure to run all the cells before saving the notebook.  Save the notebook file as \"dlnd_image_classification.ipynb\" and save it as a HTML file under \"File\" -> \"Download as\".  Include the \"helper.py\" and \"problem_unittests.py\" files in your submission."
   ]
  },
  {
   "cell_type": "code",
   "execution_count": null,
   "metadata": {
    "collapsed": true
   },
   "outputs": [],
   "source": []
  }
 ],
 "metadata": {
  "anaconda-cloud": {},
  "kernelspec": {
   "display_name": "Python [conda env:dlnd-tf-lab]",
   "language": "python",
   "name": "conda-env-dlnd-tf-lab-py"
  },
  "language_info": {
   "codemirror_mode": {
    "name": "ipython",
    "version": 3
   },
   "file_extension": ".py",
   "mimetype": "text/x-python",
   "name": "python",
   "nbconvert_exporter": "python",
   "pygments_lexer": "ipython3",
   "version": "3.5.2"
  }
 },
 "nbformat": 4,
 "nbformat_minor": 0
}
